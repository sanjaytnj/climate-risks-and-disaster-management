{
 "cells": [
  {
   "cell_type": "code",
   "execution_count": null,
   "id": "79ec93e7-52c6-4a0e-a28c-40c2542200f6",
   "metadata": {},
   "outputs": [],
   "source": [
    "import numpy as np              \n",
    "import pandas as pd             \n",
    "import matplotlib.pyplot as plt \n",
    "import seaborn as sns           \n",
    "import random                   \n",
    "import math                     \n",
    "import os                      \n",
    "import sys                      \n"
   ]
  }
 ],
 "metadata": {
  "kernelspec": {
   "display_name": "anaconda-2024.02-py310",
   "language": "python",
   "name": "conda-env-anaconda-2024.02-py310-py"
  },
  "language_info": {
   "codemirror_mode": {
    "name": "ipython",
    "version": 3
   },
   "file_extension": ".py",
   "mimetype": "text/x-python",
   "name": "python",
   "nbconvert_exporter": "python",
   "pygments_lexer": "ipython3",
   "version": "3.10.14"
  }
 },
 "nbformat": 4,
 "nbformat_minor": 5
}
